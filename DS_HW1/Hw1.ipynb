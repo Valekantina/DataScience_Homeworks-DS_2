{
  "nbformat": 4,
  "nbformat_minor": 0,
  "metadata": {
    "colab": {
      "provenance": []
    },
    "kernelspec": {
      "name": "python3",
      "display_name": "Python 3"
    },
    "language_info": {
      "name": "python"
    }
  },
  "cells": [
    {
      "cell_type": "markdown",
      "source": [
        "1. Створіть одновимірний масив (вектор) з першими 10-ма натуральними числами та виведіть його значення.\n"
      ],
      "metadata": {
        "id": "uoZmdUuPxsFw"
      }
    },
    {
      "cell_type": "code",
      "source": [
        "import numpy as np\n",
        "\n",
        "a = np.arange(1, 11)\n",
        "print(a)"
      ],
      "metadata": {
        "colab": {
          "base_uri": "https://localhost:8080/"
        },
        "id": "-yOjU9s-x2dT",
        "outputId": "e5640629-27a2-4c47-dbc2-3fa97b32c6d3"
      },
      "execution_count": 1,
      "outputs": [
        {
          "output_type": "stream",
          "name": "stdout",
          "text": [
            "[ 1  2  3  4  5  6  7  8  9 10]\n"
          ]
        }
      ]
    },
    {
      "cell_type": "markdown",
      "source": [
        "2. Створіть двовимірний масив (матрицю) розміром 3x3, заповніть його нулями та виведіть його значення."
      ],
      "metadata": {
        "id": "950bTNwDx3yR"
      }
    },
    {
      "cell_type": "code",
      "source": [
        "a = np.zeros((3, 3), dtype=int)\n",
        "print(a)"
      ],
      "metadata": {
        "colab": {
          "base_uri": "https://localhost:8080/"
        },
        "id": "glLnHE9Ux6Sk",
        "outputId": "baff2799-c229-48d9-fe88-a3d69c96db14"
      },
      "execution_count": 2,
      "outputs": [
        {
          "output_type": "stream",
          "name": "stdout",
          "text": [
            "[[0 0 0]\n",
            " [0 0 0]\n",
            " [0 0 0]]\n"
          ]
        }
      ]
    },
    {
      "cell_type": "markdown",
      "source": [
        "3. Створіть масив розміром 5x5, заповніть його випадковими цілими числами в діапазоні від 1 до 10 та виведіть його значення."
      ],
      "metadata": {
        "id": "RgCaR-DYx6_G"
      }
    },
    {
      "cell_type": "code",
      "source": [
        "a = np.random.randint(1, 11, size=(5,5))\n",
        "print(a)"
      ],
      "metadata": {
        "colab": {
          "base_uri": "https://localhost:8080/"
        },
        "id": "gk32JUVsx-nq",
        "outputId": "0774138c-d239-4e90-ebb5-88399f55f425"
      },
      "execution_count": 3,
      "outputs": [
        {
          "output_type": "stream",
          "name": "stdout",
          "text": [
            "[[ 5  7  2  2  3]\n",
            " [ 8  3  8  9  5]\n",
            " [ 6  7 10  6  6]\n",
            " [10  1  1 10  9]\n",
            " [ 9  2 10  3  7]]\n"
          ]
        }
      ]
    },
    {
      "cell_type": "markdown",
      "source": [
        "4. Створіть масив розміром 4x4, заповніть його випадковими дійсними числами в діапазоні від 0 до 1 та виведіть його значення."
      ],
      "metadata": {
        "id": "2VZf9YI1x_J5"
      }
    },
    {
      "cell_type": "code",
      "source": [
        "a = np.random.rand(4, 4)\n",
        "print(a)"
      ],
      "metadata": {
        "colab": {
          "base_uri": "https://localhost:8080/"
        },
        "id": "g16GUMGNyB5Z",
        "outputId": "61c15b23-7e0a-4a04-b600-bb7332d18025"
      },
      "execution_count": 4,
      "outputs": [
        {
          "output_type": "stream",
          "name": "stdout",
          "text": [
            "[[0.19593155 0.51696701 0.36595145 0.46271689]\n",
            " [0.10241566 0.80358109 0.11246147 0.58169221]\n",
            " [0.50356876 0.12732767 0.60880063 0.51081647]\n",
            " [0.62682118 0.16818995 0.87108321 0.76080694]]\n"
          ]
        }
      ]
    },
    {
      "cell_type": "markdown",
      "source": [
        "5. Створіть два одновимірних масиви розміром 5, заповніть їх випадковими цілими числами в діапазоні від 1 до 10 та виконайте на них поелементні операції додавання, віднімання та множення."
      ],
      "metadata": {
        "id": "3EfYk0xGyCZl"
      }
    },
    {
      "cell_type": "code",
      "source": [
        "a = np.random.randint(1, 11, size=(5,))\n",
        "b = np.random.randint(1, 11, size=(5,))\n",
        "print('a:', a)\n",
        "print('b:', b)\n",
        "print('a + b:', a + b)\n",
        "print('a - b:', a - b)\n",
        "print('a * b:', a * b)"
      ],
      "metadata": {
        "colab": {
          "base_uri": "https://localhost:8080/"
        },
        "id": "v2R13Kq0yEpE",
        "outputId": "d8dea42a-86f2-49ed-dfb5-2d518b29c9cc"
      },
      "execution_count": 5,
      "outputs": [
        {
          "output_type": "stream",
          "name": "stdout",
          "text": [
            "a: [8 1 3 6 9]\n",
            "b: [1 3 5 6 8]\n",
            "a + b: [ 9  4  8 12 17]\n",
            "a - b: [ 7 -2 -2  0  1]\n",
            "a * b: [ 8  3 15 36 72]\n"
          ]
        }
      ]
    },
    {
      "cell_type": "markdown",
      "source": [
        "6. Створіть два вектори розміром 7, заповніть довільними числами та знайдіть їх скалярний добуток."
      ],
      "metadata": {
        "id": "DTOfMVVmyFPF"
      }
    },
    {
      "cell_type": "code",
      "source": [
        "a = np.array([1, 2, 3, 4, 5, 6, 7])\n",
        "b = np.array([8, 9, 10, 11, 12, 13, 14])\n",
        "print(np.dot(a, b))"
      ],
      "metadata": {
        "colab": {
          "base_uri": "https://localhost:8080/"
        },
        "id": "J8pkeRHEyHuC",
        "outputId": "51bdf610-96d5-4184-a786-cd568b499d93"
      },
      "execution_count": 6,
      "outputs": [
        {
          "output_type": "stream",
          "name": "stdout",
          "text": [
            "336\n"
          ]
        }
      ]
    },
    {
      "cell_type": "markdown",
      "source": [
        "7. Створіть дві матриці розміром 2x2 та 2x3, заповніть їх випадковими цілими числами в діапазоні від 1 до 10 та перемножте їх між собою."
      ],
      "metadata": {
        "id": "JrsYazYryIC0"
      }
    },
    {
      "cell_type": "code",
      "source": [
        "a = np.random.randint(1, 11, size=(2, 2))\n",
        "b = np.random.randint(1, 11, size=(2, 3))\n",
        "print(a)\n",
        "print(b)\n",
        "print(np.dot(a, b))"
      ],
      "metadata": {
        "colab": {
          "base_uri": "https://localhost:8080/"
        },
        "id": "x4lNVxl9yKzF",
        "outputId": "9156f8de-1b54-4ff6-e7a5-f7c7826c408d"
      },
      "execution_count": 7,
      "outputs": [
        {
          "output_type": "stream",
          "name": "stdout",
          "text": [
            "[[5 5]\n",
            " [4 4]]\n",
            "[[ 8  8 10]\n",
            " [10  1  9]]\n",
            "[[90 45 95]\n",
            " [72 36 76]]\n"
          ]
        }
      ]
    },
    {
      "cell_type": "markdown",
      "source": [
        "8. Створіть матрицю розміром 3x3, заповніть її випадковими цілими числами в діапазоні від 1 до 10 та знайдіть її обернену матрицю."
      ],
      "metadata": {
        "id": "_ydJ_bcsyLQM"
      }
    },
    {
      "cell_type": "code",
      "source": [
        "a = np.random.randint(1, 11, size=(3, 3))\n",
        "a_inv = np.linalg.inv(a)\n",
        "print(a)\n",
        "print(a_inv)"
      ],
      "metadata": {
        "colab": {
          "base_uri": "https://localhost:8080/"
        },
        "id": "leMpN06IyNaD",
        "outputId": "834fcb2e-55b5-4dc1-fd17-4c12b444afe5"
      },
      "execution_count": 8,
      "outputs": [
        {
          "output_type": "stream",
          "name": "stdout",
          "text": [
            "[[5 2 9]\n",
            " [5 7 1]\n",
            " [3 8 9]]\n",
            "[[ 0.1519337   0.14917127 -0.16850829]\n",
            " [-0.1160221   0.04972376  0.11049724]\n",
            " [ 0.05248619 -0.09392265  0.06906077]]\n"
          ]
        }
      ]
    },
    {
      "cell_type": "markdown",
      "source": [
        "9. Створіть матрицю розміром 4x4, заповніть її випадковими дійсними числами в діапазоні від 0 до 1 та транспонуйте її."
      ],
      "metadata": {
        "id": "XUL7MNLQyN3i"
      }
    },
    {
      "cell_type": "code",
      "source": [
        "a = np.random.rand(4, 4)\n",
        "print(a)\n",
        "print(a.T)"
      ],
      "metadata": {
        "colab": {
          "base_uri": "https://localhost:8080/"
        },
        "id": "rYLm-On0yQxa",
        "outputId": "e6a33059-cd20-4b75-85bb-ee2ef54863dd"
      },
      "execution_count": 9,
      "outputs": [
        {
          "output_type": "stream",
          "name": "stdout",
          "text": [
            "[[0.41283188 0.35739592 0.16444446 0.03689722]\n",
            " [0.40426573 0.48497962 0.99738589 0.18149129]\n",
            " [0.26823965 0.88583196 0.14259557 0.16113461]\n",
            " [0.70634168 0.6983049  0.77392342 0.33627083]]\n",
            "[[0.41283188 0.40426573 0.26823965 0.70634168]\n",
            " [0.35739592 0.48497962 0.88583196 0.6983049 ]\n",
            " [0.16444446 0.99738589 0.14259557 0.77392342]\n",
            " [0.03689722 0.18149129 0.16113461 0.33627083]]\n"
          ]
        }
      ]
    },
    {
      "cell_type": "markdown",
      "source": [
        "10. Створіть матрицю розміром 3x4 та вектор розміром 4, заповніть їх випадковими цілими числами в діапазоні від 1 до 10 та перемножте матрицю на вектор."
      ],
      "metadata": {
        "id": "fqoKeSYQyRO6"
      }
    },
    {
      "cell_type": "code",
      "source": [
        "a = np.random.randint(1, 11, size=(3, 4))\n",
        "b = np.random.randint(1, 11, size=4)\n",
        "print(a)\n",
        "print(b)\n",
        "print(np.dot(a, b))"
      ],
      "metadata": {
        "colab": {
          "base_uri": "https://localhost:8080/"
        },
        "id": "P4gCOObUyTS7",
        "outputId": "b41db59e-9b9e-4f27-a24b-84f66e258e86"
      },
      "execution_count": 10,
      "outputs": [
        {
          "output_type": "stream",
          "name": "stdout",
          "text": [
            "[[ 8  4  3  5]\n",
            " [ 4  1  2  6]\n",
            " [ 2  1  6 10]]\n",
            "[ 9 10  8 10]\n",
            "[186 122 176]\n"
          ]
        }
      ]
    },
    {
      "cell_type": "markdown",
      "source": [
        "11. Створіть матрицю розміром 2x3 та вектор розміром 3, заповніть їх випадковими дійсними числами в діапазоні від 0 до 1 та перемножте матрицю на вектор."
      ],
      "metadata": {
        "id": "gCUbwV-GyTti"
      }
    },
    {
      "cell_type": "code",
      "source": [
        "a = np.random.rand(2, 3)\n",
        "b = np.random.rand(3)\n",
        "print(a)\n",
        "print(b)\n",
        "print(np.dot(a, b))"
      ],
      "metadata": {
        "colab": {
          "base_uri": "https://localhost:8080/"
        },
        "id": "QAqvRtEQyWVa",
        "outputId": "b2def8f3-6102-4d27-f206-2d31f8d14f63"
      },
      "execution_count": 11,
      "outputs": [
        {
          "output_type": "stream",
          "name": "stdout",
          "text": [
            "[[0.69388315 0.38659596 0.9709078 ]\n",
            " [0.04324294 0.65460155 0.09669537]]\n",
            "[0.75596543 0.07808022 0.74837695]\n",
            "[1.28134218 0.15616618]\n"
          ]
        }
      ]
    },
    {
      "cell_type": "markdown",
      "source": [
        "12. Створіть дві матриці розміром 2x2, заповніть їх випадковими цілими числами в діапазоні від 1 до 10 та виконайте їхнє поелементне множення."
      ],
      "metadata": {
        "id": "-HvI1J1oyWsz"
      }
    },
    {
      "cell_type": "code",
      "source": [
        "a = np.random.randint(1, 11, size=(2, 2))\n",
        "b = np.random.randint(1, 11, size=(2, 2))\n",
        "print(a)\n",
        "print(b)\n",
        "print(a * b)"
      ],
      "metadata": {
        "colab": {
          "base_uri": "https://localhost:8080/"
        },
        "id": "kRIdzZu5yYty",
        "outputId": "fce90699-dc79-4ddb-bc36-c20f453634cf"
      },
      "execution_count": 12,
      "outputs": [
        {
          "output_type": "stream",
          "name": "stdout",
          "text": [
            "[[ 9  5]\n",
            " [ 9 10]]\n",
            "[[ 6 10]\n",
            " [ 7  7]]\n",
            "[[54 50]\n",
            " [63 70]]\n"
          ]
        }
      ]
    },
    {
      "cell_type": "markdown",
      "source": [
        "13. Створіть дві матриці розміром 2x2, заповніть їх випадковими цілими числами в діапазоні від 1 до 10 та знайдіть їх добуток."
      ],
      "metadata": {
        "id": "43cfgU7-yZDV"
      }
    },
    {
      "cell_type": "code",
      "source": [
        "a = np.random.randint(1, 11, size=(2, 2))\n",
        "b = np.random.randint(1, 11, size=(2, 2))\n",
        "print(a)\n",
        "print(b)\n",
        "print(np.dot(a, b))"
      ],
      "metadata": {
        "colab": {
          "base_uri": "https://localhost:8080/"
        },
        "id": "touAzqZrybAl",
        "outputId": "29409742-a4c2-4bcc-8a9d-905af90ac443"
      },
      "execution_count": 13,
      "outputs": [
        {
          "output_type": "stream",
          "name": "stdout",
          "text": [
            "[[2 1]\n",
            " [5 9]]\n",
            "[[9 7]\n",
            " [8 1]]\n",
            "[[ 26  15]\n",
            " [117  44]]\n"
          ]
        }
      ]
    },
    {
      "cell_type": "markdown",
      "source": [
        "14. Створіть матрицю розміром 5x5, заповніть її випадковими цілими числами в діапазоні від 1 до 100 та знайдіть суму елементів матриці."
      ],
      "metadata": {
        "id": "jOhVPe4PybYS"
      }
    },
    {
      "cell_type": "code",
      "source": [
        "a = np.random.randint(1, 101, size=(5, 5))\n",
        "print(a)\n",
        "print(a.sum())"
      ],
      "metadata": {
        "colab": {
          "base_uri": "https://localhost:8080/"
        },
        "id": "3tsmylK3ydtb",
        "outputId": "ddc0cc53-cb8c-426b-9da3-3f71511c4c15"
      },
      "execution_count": 14,
      "outputs": [
        {
          "output_type": "stream",
          "name": "stdout",
          "text": [
            "[[42 79  1 16 28]\n",
            " [86 14 56  9 80]\n",
            " [10  7 24  9 60]\n",
            " [31 97 63 56 53]\n",
            " [45 81  1 57 76]]\n",
            "1081\n"
          ]
        }
      ]
    },
    {
      "cell_type": "markdown",
      "source": [
        "15. Створіть дві матриці розміром 4x4, заповніть їх випадковими цілими числами в діапазоні від 1 до 10 та знайдіть їхню різницю."
      ],
      "metadata": {
        "id": "hnsQD5GTyeA5"
      }
    },
    {
      "cell_type": "code",
      "source": [
        "a = np.random.randint(1, 11, size=(4, 4))\n",
        "b = np.random.randint(1, 11, size=(4, 4))\n",
        "print(a)\n",
        "print(b)\n",
        "print(a - b)"
      ],
      "metadata": {
        "colab": {
          "base_uri": "https://localhost:8080/"
        },
        "id": "37wQpBsNyhHh",
        "outputId": "3be7c765-b585-4aa0-c287-a7fb562239fc"
      },
      "execution_count": 15,
      "outputs": [
        {
          "output_type": "stream",
          "name": "stdout",
          "text": [
            "[[ 3  8  6  1]\n",
            " [ 4  2  1  7]\n",
            " [ 5  9  3  4]\n",
            " [ 9  7 10 10]]\n",
            "[[5 5 9 5]\n",
            " [6 9 1 4]\n",
            " [6 6 6 4]\n",
            " [2 7 3 8]]\n",
            "[[-2  3 -3 -4]\n",
            " [-2 -7  0  3]\n",
            " [-1  3 -3  0]\n",
            " [ 7  0  7  2]]\n"
          ]
        }
      ]
    },
    {
      "cell_type": "markdown",
      "source": [
        "16. Створіть матрицю розміром 3x3, заповніть її випадковими дійсними числами в діапазоні від 0 до 1 та знайдіть вектор-стовпчик, що містить суму елементів кожного рядка матриці."
      ],
      "metadata": {
        "id": "AJUpUDhlyhjF"
      }
    },
    {
      "cell_type": "code",
      "source": [
        "a = np.random.rand(3, 3)\n",
        "b = np.sum(a, axis=1)\n",
        "print(a)\n",
        "print(b)"
      ],
      "metadata": {
        "colab": {
          "base_uri": "https://localhost:8080/"
        },
        "id": "49_ehAHJyk2Z",
        "outputId": "6f2a85b2-b20a-4a16-d79d-41bdb809b87f"
      },
      "execution_count": 16,
      "outputs": [
        {
          "output_type": "stream",
          "name": "stdout",
          "text": [
            "[[0.57677245 0.26297649 0.48843941]\n",
            " [0.70832836 0.5815962  0.42219585]\n",
            " [0.8870681  0.880422   0.41749418]]\n",
            "[1.32818835 1.7121204  2.18498429]\n"
          ]
        }
      ]
    },
    {
      "cell_type": "markdown",
      "source": [
        "17. Створіть матрицю розміром 3x4 з довільними цілими числами і створінь матрицю з квадратами цих чисел."
      ],
      "metadata": {
        "id": "GpJr7KELylRW"
      }
    },
    {
      "cell_type": "code",
      "source": [
        "a = np.array([[1, 2, 3, 4],\n",
        "             [5, 6, 7, 8],\n",
        "             [9, 10, 11, 12]])\n",
        "b = np.square(a)\n",
        "print(a)\n",
        "print(b)"
      ],
      "metadata": {
        "colab": {
          "base_uri": "https://localhost:8080/"
        },
        "id": "OdxQavS7yojh",
        "outputId": "e38415c7-424b-4a16-f86e-78e3a89bebc2"
      },
      "execution_count": 17,
      "outputs": [
        {
          "output_type": "stream",
          "name": "stdout",
          "text": [
            "[[ 1  2  3  4]\n",
            " [ 5  6  7  8]\n",
            " [ 9 10 11 12]]\n",
            "[[  1   4   9  16]\n",
            " [ 25  36  49  64]\n",
            " [ 81 100 121 144]]\n"
          ]
        }
      ]
    },
    {
      "cell_type": "markdown",
      "source": [
        "18. Створіть вектор розміром 4, заповніть його випадковими цілими числами в діапазоні від 1 до 50 та знайдіть вектор з квадратними коренями цих чисел."
      ],
      "metadata": {
        "id": "JhB29aO8ypHR"
      }
    },
    {
      "cell_type": "code",
      "source": [
        "a = np.random.randint(1, 51, size=4)\n",
        "b = np.sqrt(a)\n",
        "print(a)\n",
        "print(b)"
      ],
      "metadata": {
        "colab": {
          "base_uri": "https://localhost:8080/"
        },
        "id": "UQvQCPiByqg5",
        "outputId": "eb2cf0e3-df4c-4620-8f96-4bbe277cec86"
      },
      "execution_count": 18,
      "outputs": [
        {
          "output_type": "stream",
          "name": "stdout",
          "text": [
            "[ 6 27 26 30]\n",
            "[2.44948974 5.19615242 5.09901951 5.47722558]\n"
          ]
        }
      ]
    }
  ]
}